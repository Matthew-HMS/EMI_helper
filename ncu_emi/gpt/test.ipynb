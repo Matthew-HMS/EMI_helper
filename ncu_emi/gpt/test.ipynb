{
 "cells": [
  {
   "cell_type": "code",
   "execution_count": 2,
   "metadata": {},
   "outputs": [],
   "source": [
    "from openai import OpenAI\n",
    "import os\n",
    "import requests"
   ]
  },
  {
   "cell_type": "code",
   "execution_count": 4,
   "metadata": {},
   "outputs": [],
   "source": [
    "client = OpenAI(\n",
    "    api_key = os.environ.get('OPENAI_API_KEY')\n",
    ")"
   ]
  },
  {
   "cell_type": "markdown",
   "metadata": {},
   "source": [
    "File"
   ]
  },
  {
   "cell_type": "code",
   "execution_count": 5,
   "metadata": {},
   "outputs": [
    {
     "name": "stdout",
     "output_type": "stream",
     "text": [
      "ID: vs_ZbiGyuz5pe1HnV6xXZ5HXPBS, Name: Algorithm\n"
     ]
    }
   ],
   "source": [
    "\n",
    "api_endpoint = \"https://api.openai.com/v1/vector_stores\"\n",
    "api_key = os.environ.get('OPENAI_API_KEY')\n",
    "\n",
    "# 定義請求標頭\n",
    "headers = {\n",
    "    \"Authorization\": f\"Bearer {api_key}\",\n",
    "    \"OpenAI-Beta\": \"assistants=v2\"\n",
    "}\n",
    "\n",
    "# 發送GET請求以獲取所有的vector stores\n",
    "response = requests.get(api_endpoint, headers=headers)\n",
    "\n",
    "# 檢查請求是否成功\n",
    "if response.status_code == 200:\n",
    "    vector_stores = response.json()\n",
    "    # 列出所有的vector stores\n",
    "    for store in vector_stores['data']:\n",
    "        print(f\"ID: {store['id']}, Name: {store['name']}\")\n",
    "else:\n",
    "    print(f\"Failed to retrieve vector stores: {response.status_code} {response.text}\")\n",
    "\n"
   ]
  },
  {
   "cell_type": "code",
   "execution_count": 6,
   "metadata": {},
   "outputs": [
    {
     "name": "stdout",
     "output_type": "stream",
     "text": [
      "ID: file-W0SutWWSidJoAqCnnYl5unXx, Name: 改良QuickSort作業說明_更正.pdf\n",
      "ID: file-2dUC8dbXr1pOPzcfiNqYCQEH, Name: Eclipse安裝與輸出說明.pdf\n"
     ]
    }
   ],
   "source": [
    "api_endpoint2 = \"https://api.openai.com/v1/files\"\n",
    "\n",
    "response2 = requests.get(api_endpoint2, headers=headers)\n",
    "\n",
    "if response2.status_code == 200:\n",
    "    vector_stores = response2.json()\n",
    "    # 列出所有的vector stores\n",
    "    for store in vector_stores['data']:\n",
    "        print(f\"ID: {store['id']}, Name: {store['filename']}\")\n",
    "else:\n",
    "    print(f\"Failed to retrieve vector stores: {response2.status_code} {response2.text}\")"
   ]
  },
  {
   "cell_type": "code",
   "execution_count": 7,
   "metadata": {},
   "outputs": [
    {
     "name": "stdout",
     "output_type": "stream",
     "text": [
      "completed\n",
      "FileCounts(cancelled=0, completed=2, failed=0, in_progress=0, total=2)\n"
     ]
    }
   ],
   "source": [
    "vector_store = client.beta.vector_stores.create(name=\"Algorithm\")\n",
    "\n",
    "# file_paths = [\"改良QuickSort作業說明_更正.pdf\",\"Eclipse安裝與輸出說明.pdf\",\"chapter5.pdf\"]\n",
    "file_paths = [\"改良QuickSort作業說明_更正.pdf\",\"Eclipse安裝與輸出說明.pdf\"]\n",
    "file_streams = [open(file_path, \"rb\") for file_path in file_paths]\n",
    "\n",
    "file_batch = client.beta.vector_stores.file_batches.upload_and_poll(\n",
    "  vector_store_id=vector_store.id, files=file_streams\n",
    ")\n",
    "\n",
    "print(file_batch.status)\n",
    "print(file_batch.file_counts)"
   ]
  },
  {
   "cell_type": "markdown",
   "metadata": {},
   "source": [
    "Assistant"
   ]
  },
  {
   "cell_type": "code",
   "execution_count": 9,
   "metadata": {},
   "outputs": [],
   "source": [
    "assistant = client.beta.assistants.create(\n",
    "  name=\"Algorithm\",\n",
    "  instructions=\"1. You are now an assistant for the professor in algorithm class, you need to teach the class in English 2. Read pdf's content and give me an English script for class 3. Use the knowledge only in the pdf, else don't answer and say you don't know\",\n",
    "  model=\"gpt-4o\",\n",
    "  # tools=[{\"type\": \"file_search\"}, {\"type\": \"vision\"}],\n",
    "  tools=[{\"type\": \"file_search\"}],\n",
    ")"
   ]
  },
  {
   "cell_type": "code",
   "execution_count": 10,
   "metadata": {},
   "outputs": [],
   "source": [
    "assistant = client.beta.assistants.update(\n",
    "  assistant_id=assistant.id,\n",
    "  tool_resources={\"file_search\": {\"vector_store_ids\": [vector_store.id]}},\n",
    ")"
   ]
  },
  {
   "cell_type": "markdown",
   "metadata": {},
   "source": [
    "Thread"
   ]
  },
  {
   "cell_type": "code",
   "execution_count": 11,
   "metadata": {},
   "outputs": [
    {
     "data": {
      "text/plain": [
       "Thread(id='thread_YM7JIACmu9loXnMKcTNciCUS', created_at=1723869517, metadata={}, object='thread', tool_resources=ToolResources(code_interpreter=None, file_search=None))"
      ]
     },
     "execution_count": 11,
     "metadata": {},
     "output_type": "execute_result"
    }
   ],
   "source": [
    "thread = client.beta.threads.create()\n",
    "\n",
    "thread"
   ]
  },
  {
   "cell_type": "code",
   "execution_count": 15,
   "metadata": {},
   "outputs": [
    {
     "name": "stdout",
     "output_type": "stream",
     "text": [
      "None\n"
     ]
    }
   ],
   "source": [
    "thread = client.beta.threads.create(\n",
    "  messages=[\n",
    "    {\n",
    "      \"role\": \"user\",\n",
    "      \"content\": \"briefly explain 改良QuickSort作業說明_更正.pdf.\"\n",
    "    }\n",
    "  ]\n",
    ")\n",
    "\n",
    "\n",
    "print(thread.tool_resources.file_search)"
   ]
  },
  {
   "cell_type": "code",
   "execution_count": 16,
   "metadata": {},
   "outputs": [],
   "source": [
    "run = client.beta.threads.runs.create_and_poll(\n",
    "    thread_id=thread.id, assistant_id=assistant.id\n",
    ")"
   ]
  },
  {
   "cell_type": "code",
   "execution_count": 17,
   "metadata": {},
   "outputs": [
    {
     "name": "stdout",
     "output_type": "stream",
     "text": [
      "The document \"改良QuickSort作業說明_更正.pdf\" provides detailed instructions for an assignment aimed at improving the efficiency of the standard QuickSort algorithm by integrating it with Insertion Sort. Here is a brief explanation suitable for a class presentation:\n",
      "\n",
      "---\n",
      "\n",
      "### Script for Class\n",
      "\n",
      "---\n",
      "\n",
      "**Introduction:**\n",
      "\n",
      "Today, we will discuss how to enhance the QuickSort algorithm by incorporating the Insertion Sort to improve its efficiency.\n",
      "\n",
      "---\n",
      "\n",
      "**Assignment Overview:**\n",
      "\n",
      "Your task is to implement the pseudocode for QuickSort from the textbook in Java and enhance it by integrating Insertion Sort. You will practice converting pseudocode into actual code while improving the QuickSort algorithm's efficiency.\n",
      "\n",
      "---\n",
      "\n",
      "**Requirements:**\n",
      "\n",
      "1. **Programming Language and Environment:**\n",
      "   - Use Java for implementation.\n",
      "   - The project must be compatible with JavaSE-17.\n",
      "\n",
      "2. **Algorithm Integration:**\n",
      "   - Implement the QuickSort algorithm using the provided pseudocode.\n",
      "   - Use Insertion Sort for subarrays with four or fewer elements to enhance sorting efficiency. Failure to integrate Insertion Sort will negatively impact your score.\n",
      "\n",
      "3. **Function Implementation:**\n",
      "   - Define and implement the following functions:\n",
      "     - `quickSort()`\n",
      "     - `hoarePartition()`\n",
      "     - `insertionSort()`\n",
      "   - You can create additional helper functions, but they must be well-documented.\n",
      "\n",
      "4. **Output Specifications:**\n",
      "   - Print the array before and after sorting.\n",
      "   - After each call to `hoarePartition()` or `insertionSort()`, print the method used and the current state of the array.\n",
      "\n",
      "5. **Submission Details:**\n",
      "   - Project name: \"Quicksort_YourStudentID.\"\n",
      "   - Class name: \"Main.\"\n",
      "   - Encode text files in UTF-8 to ensure readability.\n",
      "\n",
      "---\n",
      "\n",
      "**Example:**\n",
      "\n",
      "Here are some sample input arrays you will be working with:\n",
      "\n",
      "- `int[] array_1 = {15, 9, 7, 13, 12, 8, 10, 14, 11, 6};`\n",
      "- `int[] array_2 = {1, 6, 14, 13, 7, 2, 11, 10, 4, 9, 5, 8, 12, 3, 15};`\n",
      "- `int[] array_3 = {18, 30, 26, 23, 25, 27, 22, 28, 29, 17, 20, 15, 14, 24, 12, 16, 11, 21, 19, 13};`\n",
      "\n",
      "You must ensure the output matches the specified format exactly.\n",
      "\n",
      "---\n",
      "\n",
      "By completing this assignment, you will gain practical experience in:\n",
      "- Translating pseudocode into functional code.\n",
      "- Enhancing a fundamental algorithm by integrating another sorting technique.\n",
      "- Debugging and ensuring output consistency with provided examples.\n",
      "\n",
      "Remember to document your code clearly and submit your project by the specified deadline  .\n",
      "\n",
      "---\n"
     ]
    }
   ],
   "source": [
    "messages = list(client.beta.threads.messages.list(thread_id=thread.id, run_id=run.id))\n",
    "# print(messages)\n",
    "print(messages[0].content[0].text.value)"
   ]
  },
  {
   "cell_type": "code",
   "execution_count": null,
   "metadata": {},
   "outputs": [],
   "source": [
    "# from django.shortcuts import render\n",
    "# import requests\n",
    "# from django.http import JsonResponse, HttpRequest\n",
    "# from openai import OpenAI\n",
    "# import os\n",
    "# from PyPDF2 import PdfReader\n",
    "\n",
    "# # Create your views here.\n",
    "\n",
    "# client = OpenAI(\n",
    "#     api_key = os.environ.get('OPENAI_API_KEY')\n",
    "# )\n",
    "\n",
    "\n",
    "\n",
    "# def gpt_read_pdf(request):\n",
    "#     try:\n",
    "#         page_numbers = range(1, 6)  \n",
    "#         pdf_content = read_pdf_pages(\"D:\\\\中央大學\\\\第6學期\\\\專題\\\\project\\\\EMI_helper\\\\ncu_emi\\\\gpt\\\\[中央大學]20240417創造社群與自媒體影響力的經營策略(列印版).pdf\", page_numbers)\n",
    "\n",
    "#         completion = client.chat_completions.create(\n",
    "#             model=\"gpt-3.5-turbo\",\n",
    "#             messages=[\n",
    "#                 {\"role\": \"system\", \"content\": \"read pdf's content and give me an English script for class:\"},\n",
    "#                 {\"role\": \"user\", \"content\": pdf_content}\n",
    "#             ]\n",
    "#         )\n",
    "        \n",
    "#         reply = completion['choices'][0]['message']['content']\n",
    "#         return JsonResponse({'reply': reply})\n",
    "#     except Exception as e:\n",
    "#         return JsonResponse({'error': str(e)}, status=500)\n",
    "\n",
    "\n",
    "# def read_pdf_pages(file_path, pages):\n",
    "\n",
    "#     reader = PdfReader(file_path)\n",
    "#     number_of_pages = len(reader.pages)\n",
    "#     content = \"\"\n",
    "\n",
    "#     for page in pages:\n",
    "#         if page <= number_of_pages:\n",
    "#             content += reader.pages[page - 1].extract_text()\n",
    "#         else:\n",
    "#             content += f\"Page {page} does not exist in the PDF\"\n",
    "    \n",
    "#     return content\n",
    "\n",
    "\n",
    "            \n",
    "\n",
    "    \n",
    "\n",
    "\n",
    "\n",
    "\n",
    "\n",
    "\n",
    "\n",
    "\n",
    "\n",
    "\n"
   ]
  }
 ],
 "metadata": {
  "kernelspec": {
   "display_name": "ncu_emi_project",
   "language": "python",
   "name": "python3"
  },
  "language_info": {
   "codemirror_mode": {
    "name": "ipython",
    "version": 3
   },
   "file_extension": ".py",
   "mimetype": "text/x-python",
   "name": "python",
   "nbconvert_exporter": "python",
   "pygments_lexer": "ipython3",
   "version": "3.10.9"
  }
 },
 "nbformat": 4,
 "nbformat_minor": 2
}
